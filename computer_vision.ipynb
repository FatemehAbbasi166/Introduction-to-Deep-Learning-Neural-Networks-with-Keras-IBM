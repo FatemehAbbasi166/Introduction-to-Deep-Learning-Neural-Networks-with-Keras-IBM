{
  "nbformat": 4,
  "nbformat_minor": 0,
  "metadata": {
    "colab": {
      "provenance": [],
      "include_colab_link": true
    },
    "kernelspec": {
      "name": "python3",
      "display_name": "Python 3"
    },
    "language_info": {
      "name": "python"
    }
  },
  "cells": [
    {
      "cell_type": "markdown",
      "metadata": {
        "id": "view-in-github",
        "colab_type": "text"
      },
      "source": [
        "<a href=\"https://colab.research.google.com/github/FatemehAbbasi166/Introduction-to-Deep-Learning-Neural-Networks-with-Keras-IBM/blob/main/computer_vision.ipynb\" target=\"_parent\"><img src=\"https://colab.research.google.com/assets/colab-badge.svg\" alt=\"Open In Colab\"/></a>"
      ]
    },
    {
      "cell_type": "code",
      "source": [
        "import tensorflow as tf\n"
      ],
      "metadata": {
        "id": "I2YPh4wcib-P"
      },
      "execution_count": 1,
      "outputs": []
    },
    {
      "cell_type": "code",
      "source": [
        "# Load the Fashion MNIST dataset\n",
        "fmnist = tf.keras.datasets.fashion_mnist"
      ],
      "metadata": {
        "id": "SSyAtpf9jHnL"
      },
      "execution_count": 2,
      "outputs": []
    },
    {
      "cell_type": "code",
      "source": [
        "# Load the training and test split of the Fashion MNIST dataset\n",
        "(training_images, training_labels), (test_images, test_labels) = fmnist.load_data()"
      ],
      "metadata": {
        "colab": {
          "base_uri": "https://localhost:8080/"
        },
        "id": "TFqdgmRBjnfo",
        "outputId": "55d01ef0-d5c5-4553-f565-22d55b22e883"
      },
      "execution_count": 3,
      "outputs": [
        {
          "output_type": "stream",
          "name": "stdout",
          "text": [
            "Downloading data from https://storage.googleapis.com/tensorflow/tf-keras-datasets/train-labels-idx1-ubyte.gz\n",
            "\u001b[1m29515/29515\u001b[0m \u001b[32m━━━━━━━━━━━━━━━━━━━━\u001b[0m\u001b[37m\u001b[0m \u001b[1m0s\u001b[0m 0us/step\n",
            "Downloading data from https://storage.googleapis.com/tensorflow/tf-keras-datasets/train-images-idx3-ubyte.gz\n",
            "\u001b[1m26421880/26421880\u001b[0m \u001b[32m━━━━━━━━━━━━━━━━━━━━\u001b[0m\u001b[37m\u001b[0m \u001b[1m0s\u001b[0m 0us/step\n",
            "Downloading data from https://storage.googleapis.com/tensorflow/tf-keras-datasets/t10k-labels-idx1-ubyte.gz\n",
            "\u001b[1m5148/5148\u001b[0m \u001b[32m━━━━━━━━━━━━━━━━━━━━\u001b[0m\u001b[37m\u001b[0m \u001b[1m0s\u001b[0m 0us/step\n",
            "Downloading data from https://storage.googleapis.com/tensorflow/tf-keras-datasets/t10k-images-idx3-ubyte.gz\n",
            "\u001b[1m4422102/4422102\u001b[0m \u001b[32m━━━━━━━━━━━━━━━━━━━━\u001b[0m\u001b[37m\u001b[0m \u001b[1m0s\u001b[0m 0us/step\n"
          ]
        }
      ]
    },
    {
      "cell_type": "code",
      "source": [
        "# Normalize the pixel values of the train and test images\n",
        "training_images  = training_images / 255.0\n",
        "test_images = test_images / 255.0"
      ],
      "metadata": {
        "id": "sgSHybU3j2LF"
      },
      "execution_count": 4,
      "outputs": []
    },
    {
      "cell_type": "code",
      "source": [
        "# Build the classification model\n",
        "model = tf.keras.models.Sequential()"
      ],
      "metadata": {
        "id": "QgWYM6xakCmm"
      },
      "execution_count": 5,
      "outputs": []
    },
    {
      "cell_type": "code",
      "source": [
        "model.add(tf.keras.layers.Flatten(input_shape=[28, 28]))"
      ],
      "metadata": {
        "id": "QHei4CIGkNRE",
        "outputId": "401d67ed-cfd2-41a4-851d-dfdc27814ef1",
        "colab": {
          "base_uri": "https://localhost:8080/"
        }
      },
      "execution_count": 6,
      "outputs": [
        {
          "output_type": "stream",
          "name": "stderr",
          "text": [
            "/usr/local/lib/python3.11/dist-packages/keras/src/layers/reshaping/flatten.py:37: UserWarning: Do not pass an `input_shape`/`input_dim` argument to a layer. When using Sequential models, prefer using an `Input(shape)` object as the first layer in the model instead.\n",
            "  super().__init__(**kwargs)\n"
          ]
        }
      ]
    },
    {
      "cell_type": "code",
      "source": [
        "model.add(tf.keras.layers.Dense(128, activation='relu'))\n",
        "model.add(tf.keras.layers.Dense(64, activation='relu'))"
      ],
      "metadata": {
        "id": "mJVnKOEfkaOr"
      },
      "execution_count": 7,
      "outputs": []
    },
    {
      "cell_type": "code",
      "source": [
        "model.add(tf.keras.layers.Dense(10, activation='softmax'))"
      ],
      "metadata": {
        "id": "1eTlBijTkqHA"
      },
      "execution_count": 8,
      "outputs": []
    },
    {
      "cell_type": "code",
      "source": [
        "model.compile(optimizer='adam', loss='sparse_categorical_crossentropy', metrics=['accuracy'])\n"
      ],
      "metadata": {
        "id": "tie36I7ikxyS"
      },
      "execution_count": 9,
      "outputs": []
    },
    {
      "cell_type": "code",
      "source": [
        "model.summary()"
      ],
      "metadata": {
        "colab": {
          "base_uri": "https://localhost:8080/",
          "height": 284
        },
        "id": "krMzokMjlPv6",
        "outputId": "6d9f7e20-150c-46a6-ecc9-718a2c78f46d"
      },
      "execution_count": 10,
      "outputs": [
        {
          "output_type": "display_data",
          "data": {
            "text/plain": [
              "\u001b[1mModel: \"sequential\"\u001b[0m\n"
            ],
            "text/html": [
              "<pre style=\"white-space:pre;overflow-x:auto;line-height:normal;font-family:Menlo,'DejaVu Sans Mono',consolas,'Courier New',monospace\"><span style=\"font-weight: bold\">Model: \"sequential\"</span>\n",
              "</pre>\n"
            ]
          },
          "metadata": {}
        },
        {
          "output_type": "display_data",
          "data": {
            "text/plain": [
              "┏━━━━━━━━━━━━━━━━━━━━━━━━━━━━━━━━━━━━━━┳━━━━━━━━━━━━━━━━━━━━━━━━━━━━━┳━━━━━━━━━━━━━━━━━┓\n",
              "┃\u001b[1m \u001b[0m\u001b[1mLayer (type)                        \u001b[0m\u001b[1m \u001b[0m┃\u001b[1m \u001b[0m\u001b[1mOutput Shape               \u001b[0m\u001b[1m \u001b[0m┃\u001b[1m \u001b[0m\u001b[1m        Param #\u001b[0m\u001b[1m \u001b[0m┃\n",
              "┡━━━━━━━━━━━━━━━━━━━━━━━━━━━━━━━━━━━━━━╇━━━━━━━━━━━━━━━━━━━━━━━━━━━━━╇━━━━━━━━━━━━━━━━━┩\n",
              "│ flatten (\u001b[38;5;33mFlatten\u001b[0m)                    │ (\u001b[38;5;45mNone\u001b[0m, \u001b[38;5;34m784\u001b[0m)                 │               \u001b[38;5;34m0\u001b[0m │\n",
              "├──────────────────────────────────────┼─────────────────────────────┼─────────────────┤\n",
              "│ dense (\u001b[38;5;33mDense\u001b[0m)                        │ (\u001b[38;5;45mNone\u001b[0m, \u001b[38;5;34m128\u001b[0m)                 │         \u001b[38;5;34m100,480\u001b[0m │\n",
              "├──────────────────────────────────────┼─────────────────────────────┼─────────────────┤\n",
              "│ dense_1 (\u001b[38;5;33mDense\u001b[0m)                      │ (\u001b[38;5;45mNone\u001b[0m, \u001b[38;5;34m64\u001b[0m)                  │           \u001b[38;5;34m8,256\u001b[0m │\n",
              "├──────────────────────────────────────┼─────────────────────────────┼─────────────────┤\n",
              "│ dense_2 (\u001b[38;5;33mDense\u001b[0m)                      │ (\u001b[38;5;45mNone\u001b[0m, \u001b[38;5;34m10\u001b[0m)                  │             \u001b[38;5;34m650\u001b[0m │\n",
              "└──────────────────────────────────────┴─────────────────────────────┴─────────────────┘\n"
            ],
            "text/html": [
              "<pre style=\"white-space:pre;overflow-x:auto;line-height:normal;font-family:Menlo,'DejaVu Sans Mono',consolas,'Courier New',monospace\">┏━━━━━━━━━━━━━━━━━━━━━━━━━━━━━━━━━━━━━━┳━━━━━━━━━━━━━━━━━━━━━━━━━━━━━┳━━━━━━━━━━━━━━━━━┓\n",
              "┃<span style=\"font-weight: bold\"> Layer (type)                         </span>┃<span style=\"font-weight: bold\"> Output Shape                </span>┃<span style=\"font-weight: bold\">         Param # </span>┃\n",
              "┡━━━━━━━━━━━━━━━━━━━━━━━━━━━━━━━━━━━━━━╇━━━━━━━━━━━━━━━━━━━━━━━━━━━━━╇━━━━━━━━━━━━━━━━━┩\n",
              "│ flatten (<span style=\"color: #0087ff; text-decoration-color: #0087ff\">Flatten</span>)                    │ (<span style=\"color: #00d7ff; text-decoration-color: #00d7ff\">None</span>, <span style=\"color: #00af00; text-decoration-color: #00af00\">784</span>)                 │               <span style=\"color: #00af00; text-decoration-color: #00af00\">0</span> │\n",
              "├──────────────────────────────────────┼─────────────────────────────┼─────────────────┤\n",
              "│ dense (<span style=\"color: #0087ff; text-decoration-color: #0087ff\">Dense</span>)                        │ (<span style=\"color: #00d7ff; text-decoration-color: #00d7ff\">None</span>, <span style=\"color: #00af00; text-decoration-color: #00af00\">128</span>)                 │         <span style=\"color: #00af00; text-decoration-color: #00af00\">100,480</span> │\n",
              "├──────────────────────────────────────┼─────────────────────────────┼─────────────────┤\n",
              "│ dense_1 (<span style=\"color: #0087ff; text-decoration-color: #0087ff\">Dense</span>)                      │ (<span style=\"color: #00d7ff; text-decoration-color: #00d7ff\">None</span>, <span style=\"color: #00af00; text-decoration-color: #00af00\">64</span>)                  │           <span style=\"color: #00af00; text-decoration-color: #00af00\">8,256</span> │\n",
              "├──────────────────────────────────────┼─────────────────────────────┼─────────────────┤\n",
              "│ dense_2 (<span style=\"color: #0087ff; text-decoration-color: #0087ff\">Dense</span>)                      │ (<span style=\"color: #00d7ff; text-decoration-color: #00d7ff\">None</span>, <span style=\"color: #00af00; text-decoration-color: #00af00\">10</span>)                  │             <span style=\"color: #00af00; text-decoration-color: #00af00\">650</span> │\n",
              "└──────────────────────────────────────┴─────────────────────────────┴─────────────────┘\n",
              "</pre>\n"
            ]
          },
          "metadata": {}
        },
        {
          "output_type": "display_data",
          "data": {
            "text/plain": [
              "\u001b[1m Total params: \u001b[0m\u001b[38;5;34m109,386\u001b[0m (427.29 KB)\n"
            ],
            "text/html": [
              "<pre style=\"white-space:pre;overflow-x:auto;line-height:normal;font-family:Menlo,'DejaVu Sans Mono',consolas,'Courier New',monospace\"><span style=\"font-weight: bold\"> Total params: </span><span style=\"color: #00af00; text-decoration-color: #00af00\">109,386</span> (427.29 KB)\n",
              "</pre>\n"
            ]
          },
          "metadata": {}
        },
        {
          "output_type": "display_data",
          "data": {
            "text/plain": [
              "\u001b[1m Trainable params: \u001b[0m\u001b[38;5;34m109,386\u001b[0m (427.29 KB)\n"
            ],
            "text/html": [
              "<pre style=\"white-space:pre;overflow-x:auto;line-height:normal;font-family:Menlo,'DejaVu Sans Mono',consolas,'Courier New',monospace\"><span style=\"font-weight: bold\"> Trainable params: </span><span style=\"color: #00af00; text-decoration-color: #00af00\">109,386</span> (427.29 KB)\n",
              "</pre>\n"
            ]
          },
          "metadata": {}
        },
        {
          "output_type": "display_data",
          "data": {
            "text/plain": [
              "\u001b[1m Non-trainable params: \u001b[0m\u001b[38;5;34m0\u001b[0m (0.00 B)\n"
            ],
            "text/html": [
              "<pre style=\"white-space:pre;overflow-x:auto;line-height:normal;font-family:Menlo,'DejaVu Sans Mono',consolas,'Courier New',monospace\"><span style=\"font-weight: bold\"> Non-trainable params: </span><span style=\"color: #00af00; text-decoration-color: #00af00\">0</span> (0.00 B)\n",
              "</pre>\n"
            ]
          },
          "metadata": {}
        }
      ]
    },
    {
      "cell_type": "code",
      "source": [
        "model.fit(training_images , training_labels, epochs=5)"
      ],
      "metadata": {
        "colab": {
          "base_uri": "https://localhost:8080/"
        },
        "id": "7qrpGp6olSUr",
        "outputId": "5606b8d3-603a-406c-ccdd-58db326be64c"
      },
      "execution_count": 11,
      "outputs": [
        {
          "output_type": "stream",
          "name": "stdout",
          "text": [
            "Epoch 1/5\n",
            "\u001b[1m1875/1875\u001b[0m \u001b[32m━━━━━━━━━━━━━━━━━━━━\u001b[0m\u001b[37m\u001b[0m \u001b[1m13s\u001b[0m 6ms/step - accuracy: 0.7771 - loss: 0.6311\n",
            "Epoch 2/5\n",
            "\u001b[1m1875/1875\u001b[0m \u001b[32m━━━━━━━━━━━━━━━━━━━━\u001b[0m\u001b[37m\u001b[0m \u001b[1m7s\u001b[0m 4ms/step - accuracy: 0.8614 - loss: 0.3734\n",
            "Epoch 3/5\n",
            "\u001b[1m1875/1875\u001b[0m \u001b[32m━━━━━━━━━━━━━━━━━━━━\u001b[0m\u001b[37m\u001b[0m \u001b[1m10s\u001b[0m 3ms/step - accuracy: 0.8793 - loss: 0.3331\n",
            "Epoch 4/5\n",
            "\u001b[1m1875/1875\u001b[0m \u001b[32m━━━━━━━━━━━━━━━━━━━━\u001b[0m\u001b[37m\u001b[0m \u001b[1m9s\u001b[0m 3ms/step - accuracy: 0.8842 - loss: 0.3104\n",
            "Epoch 5/5\n",
            "\u001b[1m1875/1875\u001b[0m \u001b[32m━━━━━━━━━━━━━━━━━━━━\u001b[0m\u001b[37m\u001b[0m \u001b[1m8s\u001b[0m 4ms/step - accuracy: 0.8917 - loss: 0.2912\n"
          ]
        },
        {
          "output_type": "execute_result",
          "data": {
            "text/plain": [
              "<keras.src.callbacks.history.History at 0x7f4154f30990>"
            ]
          },
          "metadata": {},
          "execution_count": 11
        }
      ]
    },
    {
      "cell_type": "code",
      "source": [
        "model.evaluate(test_images, test_labels)"
      ],
      "metadata": {
        "colab": {
          "base_uri": "https://localhost:8080/"
        },
        "id": "lMdJG6oLmVOZ",
        "outputId": "289a5342-1538-4b99-ed87-b73aa23a4be0"
      },
      "execution_count": 12,
      "outputs": [
        {
          "output_type": "stream",
          "name": "stdout",
          "text": [
            "\u001b[1m313/313\u001b[0m \u001b[32m━━━━━━━━━━━━━━━━━━━━\u001b[0m\u001b[37m\u001b[0m \u001b[1m1s\u001b[0m 2ms/step - accuracy: 0.8669 - loss: 0.3665\n"
          ]
        },
        {
          "output_type": "execute_result",
          "data": {
            "text/plain": [
              "[0.3613640367984772, 0.8689000010490417]"
            ]
          },
          "metadata": {},
          "execution_count": 12
        }
      ]
    },
    {
      "cell_type": "code",
      "source": [
        "import numpy as np\n",
        "import matplotlib.pyplot as plt\n",
        "\n",
        "# You can put between 0 to 59999 here\n",
        "index = 12640\n",
        "\n",
        "# Set number of characters per row when printing\n",
        "np.set_printoptions(linewidth=320)\n",
        "\n",
        "# Print the label and image\n",
        "print(f'LABEL: {training_labels[index]}')\n",
        "print(f'\\nIMAGE PIXEL ARRAY:\\n {training_images[index]}')\n",
        "\n",
        "# Visualize the image\n",
        "plt.imshow(training_images[index])"
      ],
      "metadata": {
        "colab": {
          "base_uri": "https://localhost:8080/",
          "height": 1000
        },
        "id": "V4hY1BaomyIH",
        "outputId": "61419005-5d6a-4bc0-a31e-ef628eeddc37"
      },
      "execution_count": 21,
      "outputs": [
        {
          "output_type": "stream",
          "name": "stdout",
          "text": [
            "LABEL: 6\n",
            "\n",
            "IMAGE PIXEL ARRAY:\n",
            " [[0.         0.         0.         0.00392157 0.         0.         0.         0.         0.         0.37254902 0.71372549 0.21176471 0.         0.         0.         0.         0.         0.         0.20392157 0.69019608 0.25098039 0.         0.         0.         0.         0.         0.         0.        ]\n",
            " [0.         0.         0.         0.00392157 0.         0.         0.         0.48235294 1.         0.94117647 0.83529412 0.65490196 0.63529412 0.57254902 0.1254902  0.25098039 0.58823529 0.60392157 0.72156863 0.89411765 0.89803922 0.82745098 0.5372549  0.         0.         0.         0.         0.        ]\n",
            " [0.         0.         0.         0.         0.         0.         0.7372549  0.96470588 0.89803922 0.8627451  0.89411765 0.75294118 0.54901961 0.6        0.25098039 0.38039216 0.64313725 0.60392157 0.80784314 0.87058824 0.85098039 0.85882353 0.96862745 0.61176471 0.         0.         0.         0.        ]\n",
            " [0.         0.         0.         0.00784314 0.         0.30980392 0.94117647 0.84705882 0.88235294 0.89019608 0.88235294 0.88627451 0.90980392 0.83921569 0.91764706 0.88627451 0.85098039 0.87843137 0.88627451 0.86666667 0.87058824 0.85098039 0.8745098  0.77254902 0.         0.         0.         0.        ]\n",
            " [0.         0.         0.         0.         0.         0.75686275 0.90980392 0.85490196 0.87843137 0.89803922 0.91764706 0.90980392 0.89411765 0.89019608 0.89411765 0.89803922 0.89019608 0.87843137 0.88627451 0.88235294 0.86666667 0.8627451  0.85098039 0.8627451  0.         0.         0.         0.        ]\n",
            " [0.         0.         0.         0.         0.         0.77254902 0.87843137 0.88235294 0.89411765 0.8745098  0.83921569 0.76862745 0.75686275 0.76078431 0.75294118 0.76078431 0.80392157 0.82745098 0.83529412 0.89803922 0.90588235 0.87058824 0.84705882 0.86666667 0.21568627 0.         0.         0.        ]\n",
            " [0.         0.         0.         0.         0.16470588 0.87058824 0.78431373 0.80784314 0.81568627 0.88235294 0.81176471 0.8627451  0.87058824 0.8745098  0.89019608 0.87843137 0.86666667 0.82745098 0.83921569 0.81960784 0.81176471 0.81568627 0.76470588 0.85882353 0.52941176 0.         0.         0.        ]\n",
            " [0.         0.         0.         0.         0.1254902  0.70196078 0.79215686 0.82352941 0.90980392 0.55686275 0.51764706 0.54901961 0.45882353 0.47843137 0.46666667 0.43529412 0.45098039 0.51764706 0.5372549  0.80392157 0.98823529 0.81176471 0.82745098 0.8745098  0.52941176 0.         0.         0.        ]\n",
            " [0.         0.         0.         0.         0.0627451  0.24705882 0.23921569 0.63137255 0.45882353 0.01176471 0.07058824 0.09803922 0.0745098  0.10196078 0.10196078 0.08627451 0.08235294 0.07843137 0.04313725 0.10980392 0.56470588 0.67843137 0.45098039 0.31764706 0.14509804 0.         0.         0.        ]\n",
            " [0.         0.         0.         0.         0.21960784 0.36862745 0.12156863 0.4        0.34509804 0.22352941 0.21176471 0.22352941 0.22745098 0.23137255 0.20784314 0.23529412 0.23921569 0.23529412 0.22745098 0.18431373 0.35294118 0.3254902  0.07843137 0.2745098  0.34117647 0.         0.         0.        ]\n",
            " [0.         0.         0.         0.         0.26666667 0.27843137 0.29019608 0.40392157 0.28627451 0.27843137 0.21960784 0.20784314 0.23529412 0.21568627 0.21176471 0.21568627 0.22352941 0.23137255 0.23137255 0.27843137 0.28627451 0.44313725 0.29019608 0.23921569 0.36078431 0.00392157 0.         0.        ]\n",
            " [0.         0.         0.         0.         0.35686275 0.23529412 0.2627451  0.5372549  0.26666667 0.28235294 0.21960784 0.21960784 0.21176471 0.21960784 0.23137255 0.23137255 0.21568627 0.21960784 0.2627451  0.29411765 0.2627451  0.48235294 0.2627451  0.24313725 0.37254902 0.0627451  0.         0.        ]\n",
            " [0.         0.         0.         0.         0.33333333 0.29019608 0.23529412 0.52941176 0.28235294 0.2627451  0.2        0.22745098 0.24313725 0.22352941 0.21176471 0.21568627 0.22352941 0.21960784 0.24705882 0.27843137 0.25882353 0.5254902  0.24313725 0.16470588 0.28627451 0.10588235 0.         0.        ]\n",
            " [0.         0.         0.         0.01176471 0.32156863 0.18823529 0.25882353 0.50980392 0.25490196 0.23137255 0.22352941 0.23921569 0.23529412 0.21568627 0.22745098 0.22352941 0.22352941 0.21568627 0.24705882 0.2745098  0.25882353 0.37254902 0.3254902  0.23921569 0.30588235 0.12941176 0.         0.        ]\n",
            " [0.         0.         0.         0.03137255 0.31764706 0.21176471 0.34117647 0.36078431 0.25490196 0.23137255 0.23137255 0.23137255 0.23137255 0.22745098 0.23137255 0.19215686 0.21176471 0.25098039 0.24705882 0.26666667 0.25098039 0.39215686 0.29803922 0.18823529 0.29803922 0.16862745 0.         0.        ]\n",
            " [0.         0.         0.         0.03921569 0.32941176 0.22352941 0.35294118 0.35686275 0.24313725 0.23529412 0.23529412 0.22745098 0.22745098 0.23529412 0.22352941 0.21568627 0.23137255 0.25490196 0.21960784 0.29019608 0.23921569 0.34901961 0.38823529 0.20784314 0.28235294 0.18823529 0.         0.        ]\n",
            " [0.         0.         0.         0.03529412 0.3254902  0.19215686 0.42745098 0.35686275 0.21568627 0.23529412 0.23137255 0.23921569 0.24313725 0.21960784 0.21568627 0.21960784 0.22352941 0.23529412 0.23529412 0.29019608 0.25098039 0.31764706 0.36078431 0.19215686 0.31764706 0.15294118 0.         0.        ]\n",
            " [0.         0.         0.         0.01176471 0.31372549 0.17254902 0.44313725 0.32156863 0.25490196 0.21960784 0.22745098 0.23921569 0.23529412 0.21960784 0.21960784 0.23921569 0.21960784 0.23529412 0.25490196 0.28235294 0.24313725 0.28627451 0.4        0.17254902 0.27843137 0.15686275 0.         0.        ]\n",
            " [0.         0.         0.         0.         0.32156863 0.22352941 0.46666667 0.29803922 0.25098039 0.20392157 0.22352941 0.27058824 0.23137255 0.21960784 0.24313725 0.22745098 0.19215686 0.2627451  0.25490196 0.27843137 0.25882353 0.24313725 0.43529412 0.20784314 0.30980392 0.14117647 0.         0.        ]\n",
            " [0.         0.         0.         0.         0.36078431 0.25098039 0.40392157 0.29803922 0.24313725 0.22745098 0.23137255 0.24705882 0.2627451  0.19215686 0.21568627 0.24313725 0.21568627 0.2627451  0.2627451  0.21960784 0.26666667 0.29803922 0.43921569 0.30196078 0.34117647 0.15686275 0.         0.        ]\n",
            " [0.         0.         0.         0.         0.03529412 0.         0.25490196 0.33333333 0.22745098 0.23921569 0.23529412 0.24705882 0.23921569 0.21176471 0.22352941 0.22745098 0.20784314 0.26666667 0.25882353 0.21960784 0.25098039 0.34509804 0.18039216 0.         0.05098039 0.01568627 0.         0.        ]\n",
            " [0.         0.         0.         0.         0.         0.         0.36078431 0.30980392 0.25490196 0.21960784 0.21568627 0.2627451  0.25882353 0.21568627 0.21960784 0.22352941 0.21960784 0.2745098  0.24313725 0.24313725 0.25098039 0.33333333 0.2745098  0.         0.         0.         0.         0.        ]\n",
            " [0.         0.         0.         0.00392157 0.         0.00392157 0.38431373 0.2745098  0.23529412 0.23529412 0.25098039 0.24313725 0.25882353 0.21960784 0.21960784 0.21568627 0.24313725 0.25098039 0.23529412 0.23137255 0.2627451  0.29803922 0.35294118 0.         0.         0.00784314 0.         0.        ]\n",
            " [0.         0.         0.         0.01568627 0.         0.11764706 0.37647059 0.27058824 0.23137255 0.24313725 0.24705882 0.23529412 0.25882353 0.23137255 0.21568627 0.20784314 0.23529412 0.24705882 0.24705882 0.24313725 0.2745098  0.2745098  0.36862745 0.05098039 0.         0.00784314 0.         0.        ]\n",
            " [0.         0.         0.         0.02352941 0.         0.16862745 0.38431373 0.27058824 0.23137255 0.22745098 0.23921569 0.24705882 0.24705882 0.23529412 0.21568627 0.21960784 0.24313725 0.24705882 0.22352941 0.24313725 0.26666667 0.2627451  0.38431373 0.16078431 0.         0.00784314 0.         0.        ]\n",
            " [0.         0.         0.         0.01176471 0.         0.09803922 0.39215686 0.25098039 0.25490196 0.23529412 0.2        0.25882353 0.24705882 0.20784314 0.2        0.24705882 0.22352941 0.22745098 0.25098039 0.22352941 0.24313725 0.27058824 0.40392157 0.14901961 0.         0.00784314 0.         0.        ]\n",
            " [0.         0.         0.         0.00392157 0.         0.         0.3254902  0.35686275 0.28235294 0.2745098  0.29019608 0.28627451 0.25882353 0.24705882 0.2        0.23921569 0.29019608 0.30588235 0.28235294 0.27058824 0.31764706 0.31764706 0.30588235 0.01568627 0.         0.00392157 0.         0.        ]\n",
            " [0.         0.         0.         0.00392157 0.00392157 0.         0.         0.01568627 0.08627451 0.14117647 0.18823529 0.18823529 0.23137255 0.20392157 0.14509804 0.15294118 0.18431373 0.14901961 0.11764706 0.16078431 0.09411765 0.01568627 0.         0.         0.00392157 0.         0.         0.        ]]\n"
          ]
        },
        {
          "output_type": "execute_result",
          "data": {
            "text/plain": [
              "<matplotlib.image.AxesImage at 0x7f415236b390>"
            ]
          },
          "metadata": {},
          "execution_count": 21
        },
        {
          "output_type": "display_data",
          "data": {
            "text/plain": [
              "<Figure size 640x480 with 1 Axes>"
            ],
            "image/png": "[encoded data removed]"
          },
          "metadata": {}
        }
      ]
    },
    {
      "cell_type": "code",
      "source": [
        "# Predict the label for the first sample\n",
        "first_sample = training_images[:1]  # Assuming X_train is a numpy array\n",
        "predicted_probabilities = model.predict(first_sample)\n",
        "predicted_label = tf.argmax(predicted_probabilities, axis=1).numpy()\n",
        "print(\"Predicted Label for the first sample:\", predicted_label)\n",
        "print(\"probabilities:\",predicted_probabilities)"
      ],
      "metadata": {
        "colab": {
          "base_uri": "https://localhost:8080/"
        },
        "id": "Ftzw8SYLoanF",
        "outputId": "29051469-037b-4f9c-d325-6fd146fd9241"
      },
      "execution_count": 22,
      "outputs": [
        {
          "output_type": "stream",
          "name": "stdout",
          "text": [
            "\u001b[1m1/1\u001b[0m \u001b[32m━━━━━━━━━━━━━━━━━━━━\u001b[0m\u001b[37m\u001b[0m \u001b[1m0s\u001b[0m 50ms/step\n",
            "Predicted Label for the first sample: [9]\n",
            "probabilities: [[2.8609753e-07 9.4279740e-10 7.2083218e-08 1.8067352e-08 2.7805296e-08 1.8400130e-03 3.3506662e-08 2.0245442e-02 3.8044900e-06 9.7791022e-01]]\n"
          ]
        }
      ]
    },
    {
      "cell_type": "code",
      "source": [
        "# Predict the label for the first sample\n",
        "second_sample = training_images[15000:15001]  # Assuming X_train is a numpy array\n",
        "predicted_probabilities = model.predict(second_sample)\n",
        "predicted_label = tf.argmax(predicted_probabilities, axis=1).numpy()\n",
        "print(\"Predicted Label for the first sample:\", predicted_label)\n",
        "print(\"probabilities:\",predicted_probabilities)"
      ],
      "metadata": {
        "id": "GN2dkhJeomZw",
        "colab": {
          "base_uri": "https://localhost:8080/"
        },
        "outputId": "fb8d647e-d63e-44ed-f85d-25db03c0d9b1"
      },
      "execution_count": 23,
      "outputs": [
        {
          "output_type": "stream",
          "name": "stdout",
          "text": [
            "\u001b[1m1/1\u001b[0m \u001b[32m━━━━━━━━━━━━━━━━━━━━\u001b[0m\u001b[37m\u001b[0m \u001b[1m0s\u001b[0m 37ms/step\n",
            "Predicted Label for the first sample: [2]\n",
            "probabilities: [[4.3231162e-04 3.1331780e-08 9.4359738e-01 1.3341436e-05 1.4256396e-02 5.3846082e-07 4.1697003e-02 1.2734078e-09 2.9016678e-06 2.0013632e-08]]\n"
          ]
        }
      ]
    }
  ]
}